{
 "cells": [
  {
   "cell_type": "code",
   "execution_count": 12,
   "metadata": {},
   "outputs": [],
   "source": [
    "import pandas as pd"
   ]
  },
  {
   "cell_type": "code",
   "execution_count": 46,
   "metadata": {},
   "outputs": [],
   "source": [
    "df=pd.read_csv('uploads/5_years_financial_data.csv',parse_dates = ['Date'],dayfirst=True)\n",
    "\n",
    "df['Year'] = df['Date'].dt.year\n",
    "df['Month'] = df['Date'].dt.month\n"
   ]
  },
  {
   "cell_type": "code",
   "execution_count": 67,
   "metadata": {},
   "outputs": [],
   "source": [
    "df1=df.groupby('Category',as_index=False).agg({'Amount':'sum'}).rename(columns={'Category':'category','Amount':'amount'}).to_dict(orient='dict')"
   ]
  },
  {
   "cell_type": "code",
   "execution_count": 68,
   "metadata": {},
   "outputs": [
    {
     "data": {
      "text/plain": [
       "{'category': {0: 'Dining Out',\n",
       "  1: 'Entertainment',\n",
       "  2: 'Groceries',\n",
       "  3: 'Health',\n",
       "  4: 'Transportation',\n",
       "  5: 'Utilities'},\n",
       " 'amount': {0: 33407.86,\n",
       "  1: 30209.94,\n",
       "  2: 32965.54,\n",
       "  3: 34812.27,\n",
       "  4: 35263.36,\n",
       "  5: 34830.48}}"
      ]
     },
     "execution_count": 68,
     "metadata": {},
     "output_type": "execute_result"
    }
   ],
   "source": [
    "df1"
   ]
  },
  {
   "cell_type": "code",
   "execution_count": 49,
   "metadata": {},
   "outputs": [
    {
     "data": {
      "text/plain": [
       "{'Category': {0: 'Dining Out',\n",
       "  1: 'Entertainment',\n",
       "  2: 'Groceries',\n",
       "  3: 'Health',\n",
       "  4: 'Transportation',\n",
       "  5: 'Utilities'},\n",
       " 'Amount': {0: 33407.86,\n",
       "  1: 30209.94,\n",
       "  2: 32965.54,\n",
       "  3: 34812.27,\n",
       "  4: 35263.36,\n",
       "  5: 34830.48}}"
      ]
     },
     "execution_count": 49,
     "metadata": {},
     "output_type": "execute_result"
    }
   ],
   "source": [
    "# Calculate total expenses by category\n",
    "category_totals = df.groupby('Category',as_index=False).agg({'Amount':'sum'}).to_dict(orient='dict')\n",
    "\n",
    "category_totals"
   ]
  },
  {
   "cell_type": "code",
   "execution_count": 56,
   "metadata": {},
   "outputs": [
    {
     "data": {
      "text/plain": [
       "{'category_yearly': {0: 'Dining Out 2019',\n",
       "  1: 'Dining Out 2020',\n",
       "  2: 'Dining Out 2021',\n",
       "  3: 'Dining Out 2022',\n",
       "  4: 'Dining Out 2023',\n",
       "  5: 'Entertainment 2019',\n",
       "  6: 'Entertainment 2020',\n",
       "  7: 'Entertainment 2021',\n",
       "  8: 'Entertainment 2022',\n",
       "  9: 'Entertainment 2023',\n",
       "  10: 'Groceries 2019',\n",
       "  11: 'Groceries 2020',\n",
       "  12: 'Groceries 2021',\n",
       "  13: 'Groceries 2022',\n",
       "  14: 'Groceries 2023',\n",
       "  15: 'Health 2019',\n",
       "  16: 'Health 2020',\n",
       "  17: 'Health 2021',\n",
       "  18: 'Health 2022',\n",
       "  19: 'Health 2023',\n",
       "  20: 'Transportation 2019',\n",
       "  21: 'Transportation 2020',\n",
       "  22: 'Transportation 2021',\n",
       "  23: 'Transportation 2022',\n",
       "  24: 'Transportation 2023',\n",
       "  25: 'Utilities 2019',\n",
       "  26: 'Utilities 2020',\n",
       "  27: 'Utilities 2021',\n",
       "  28: 'Utilities 2022',\n",
       "  29: 'Utilities 2023'},\n",
       " 'Amount': {0: 7374.05,\n",
       "  1: 5233.52,\n",
       "  2: 7550.03,\n",
       "  3: 7145.92,\n",
       "  4: 6104.34,\n",
       "  5: 6702.67,\n",
       "  6: 7161.22,\n",
       "  7: 4236.47,\n",
       "  8: 5695.44,\n",
       "  9: 6414.14,\n",
       "  10: 5851.46,\n",
       "  11: 5587.91,\n",
       "  12: 7097.16,\n",
       "  13: 5627.5199999999995,\n",
       "  14: 8801.49,\n",
       "  15: 6136.22,\n",
       "  16: 8058.18,\n",
       "  17: 5893.8,\n",
       "  18: 8724.43,\n",
       "  19: 5999.64,\n",
       "  20: 6189.78,\n",
       "  21: 7667.85,\n",
       "  22: 8169.74,\n",
       "  23: 6115.86,\n",
       "  24: 7120.13,\n",
       "  25: 8228.69,\n",
       "  26: 7198.28,\n",
       "  27: 6639.27,\n",
       "  28: 6720.36,\n",
       "  29: 6043.88}}"
      ]
     },
     "execution_count": 56,
     "metadata": {},
     "output_type": "execute_result"
    }
   ],
   "source": [
    "df['category_yearly'] = df['Category']+' '+df['Year'].astype(str)\n",
    "yearly_expenses_per_category=df.groupby(['category_yearly'],as_index=False).agg({'Amount':'sum'}).to_dict(orient='dict')\n",
    "yearly_expenses_per_category"
   ]
  },
  {
   "cell_type": "code",
   "execution_count": 60,
   "metadata": {},
   "outputs": [
    {
     "data": {
      "text/plain": [
       "{'category': {0: '2019-1',\n",
       "  1: '2019-10',\n",
       "  2: '2019-11',\n",
       "  3: '2019-12',\n",
       "  4: '2019-2',\n",
       "  5: '2019-3',\n",
       "  6: '2019-4',\n",
       "  7: '2019-5',\n",
       "  8: '2019-6',\n",
       "  9: '2019-7',\n",
       "  10: '2019-8',\n",
       "  11: '2019-9',\n",
       "  12: '2020-1',\n",
       "  13: '2020-10',\n",
       "  14: '2020-11',\n",
       "  15: '2020-12',\n",
       "  16: '2020-2',\n",
       "  17: '2020-3',\n",
       "  18: '2020-4',\n",
       "  19: '2020-5',\n",
       "  20: '2020-6',\n",
       "  21: '2020-7',\n",
       "  22: '2020-8',\n",
       "  23: '2020-9',\n",
       "  24: '2021-1',\n",
       "  25: '2021-10',\n",
       "  26: '2021-11',\n",
       "  27: '2021-12',\n",
       "  28: '2021-2',\n",
       "  29: '2021-3',\n",
       "  30: '2021-4',\n",
       "  31: '2021-5',\n",
       "  32: '2021-6',\n",
       "  33: '2021-7',\n",
       "  34: '2021-8',\n",
       "  35: '2021-9',\n",
       "  36: '2022-1',\n",
       "  37: '2022-10',\n",
       "  38: '2022-11',\n",
       "  39: '2022-12',\n",
       "  40: '2022-2',\n",
       "  41: '2022-3',\n",
       "  42: '2022-4',\n",
       "  43: '2022-5',\n",
       "  44: '2022-6',\n",
       "  45: '2022-7',\n",
       "  46: '2022-8',\n",
       "  47: '2022-9',\n",
       "  48: '2023-1',\n",
       "  49: '2023-10',\n",
       "  50: '2023-11',\n",
       "  51: '2023-12',\n",
       "  52: '2023-2',\n",
       "  53: '2023-3',\n",
       "  54: '2023-4',\n",
       "  55: '2023-5',\n",
       "  56: '2023-6',\n",
       "  57: '2023-7',\n",
       "  58: '2023-8',\n",
       "  59: '2023-9'},\n",
       " 'amount': {0: 2457.76,\n",
       "  1: 3418.11,\n",
       "  2: 3188.99,\n",
       "  3: 3939.09,\n",
       "  4: 3299.6,\n",
       "  5: 3529.34,\n",
       "  6: 3367.66,\n",
       "  7: 3652.59,\n",
       "  8: 3318.5099999999998,\n",
       "  9: 4003.08,\n",
       "  10: 3212.92,\n",
       "  11: 3095.22,\n",
       "  12: 3227.33,\n",
       "  13: 3719.75,\n",
       "  14: 3343.55,\n",
       "  15: 3189.99,\n",
       "  16: 3339.11,\n",
       "  17: 3773.73,\n",
       "  18: 3262.24,\n",
       "  19: 3476.84,\n",
       "  20: 3651.41,\n",
       "  21: 3429.32,\n",
       "  22: 3346.18,\n",
       "  23: 3147.51,\n",
       "  24: 3331.46,\n",
       "  25: 2968.58,\n",
       "  26: 3179.32,\n",
       "  27: 3381.7200000000003,\n",
       "  28: 2860.35,\n",
       "  29: 3597.62,\n",
       "  30: 3084.13,\n",
       "  31: 2937.92,\n",
       "  32: 3461.79,\n",
       "  33: 3518.68,\n",
       "  34: 3847.1,\n",
       "  35: 3417.8,\n",
       "  36: 2999.32,\n",
       "  37: 3031.52,\n",
       "  38: 3467.92,\n",
       "  39: 3104.52,\n",
       "  40: 2677.22,\n",
       "  41: 4137.85,\n",
       "  42: 3416.35,\n",
       "  43: 3676.14,\n",
       "  44: 3337.19,\n",
       "  45: 3352.37,\n",
       "  46: 3291.62,\n",
       "  47: 3537.5099999999998,\n",
       "  48: 3644.62,\n",
       "  49: 3494.86,\n",
       "  50: 3405.56,\n",
       "  51: 3674.79,\n",
       "  52: 2768.32,\n",
       "  53: 3980.89,\n",
       "  54: 3004.7999999999997,\n",
       "  55: 3521.68,\n",
       "  56: 3027.15,\n",
       "  57: 3372.68,\n",
       "  58: 3095.02,\n",
       "  59: 3493.25}}"
      ]
     },
     "execution_count": 60,
     "metadata": {},
     "output_type": "execute_result"
    }
   ],
   "source": [
    "\n",
    "# Calculate Monthly expenses\n",
    "df['year_month'] = df['Year'].astype(str)+'-'+df['Month'].astype(str)\n",
    "monthly_expenses = df.groupby(['year_month'],as_index=False).agg({'Amount':'sum'}).rename(columns={\"year_month\": \"category\", \"Amount\": \"amount\"}).to_dict(orient='dict')\n",
    "monthly_expenses"
   ]
  },
  {
   "cell_type": "code",
   "execution_count": 51,
   "metadata": {},
   "outputs": [
    {
     "data": {
      "text/plain": [
       "{'Year': {0: 2019, 1: 2020, 2: 2021, 3: 2022, 4: 2023},\n",
       " 'Amount': {0: 40482.87, 1: 40906.96, 2: 39586.47, 3: 40029.53, 4: 40483.62}}"
      ]
     },
     "execution_count": 51,
     "metadata": {},
     "output_type": "execute_result"
    }
   ],
   "source": [
    "# Calculate yearly expenses\n",
    "yearly_expenses = df.groupby(['Year'],as_index=False).agg({'Amount':'sum'}).to_dict(orient='dict')\n",
    "yearly_expenses"
   ]
  },
  {
   "cell_type": "code",
   "execution_count": 33,
   "metadata": {},
   "outputs": [],
   "source": [
    "\n",
    "# Calculate total expenses \n",
    "total_expenses = df['Amount'].sum()\n",
    "\n",
    "\n"
   ]
  },
  {
   "cell_type": "code",
   "execution_count": null,
   "metadata": {},
   "outputs": [],
   "source": [
    "res={\n",
    "    'category_totals': category_totals,\n",
    "    'monthly_expenses': monthly_expenses,\n",
    "    'total_expenses': total_expenses\n",
    "}"
   ]
  },
  {
   "cell_type": "code",
   "execution_count": null,
   "metadata": {},
   "outputs": [],
   "source": [
    "data=df\n",
    "plt.figure()\n",
    "data.groupby('Category')['Amount'].sum().plot.pie()\n",
    "pie_chart_path = os.path.join(CHART_FOLDER, 'pie_chart.png')\n",
    "plt.savefig(pie_chart_path)\n",
    "charts['pie_chart'] = pie_chart_path'])"
   ]
  }
 ],
 "metadata": {
  "kernelspec": {
   "display_name": "Python 3",
   "language": "python",
   "name": "python3"
  },
  "language_info": {
   "codemirror_mode": {
    "name": "ipython",
    "version": 3
   },
   "file_extension": ".py",
   "mimetype": "text/x-python",
   "name": "python",
   "nbconvert_exporter": "python",
   "pygments_lexer": "ipython3",
   "version": "3.12.0"
  }
 },
 "nbformat": 4,
 "nbformat_minor": 2
}
